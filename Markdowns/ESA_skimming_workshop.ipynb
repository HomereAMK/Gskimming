{
 "cells": [
  {
   "cell_type": "code",
   "execution_count": null,
   "metadata": {},
   "outputs": [],
   "source": [
    "import os\n",
    "import subprocess\n",
    "\n"
   ]
  },
  {
   "cell_type": "code",
   "execution_count": null,
   "metadata": {},
   "outputs": [],
   "source": [
    "# Function to run a shell command and print its output\n",
    "def run_command(command):\n",
    "    print(f\"Running command: {command}\")\n",
    "    process = subprocess.Popen(command, shell=True, stdout=subprocess.PIPE, stderr=subprocess.PIPE)\n",
    "    stdout, stderr = process.communicate()\n",
    "    print(f\"Output:\\n{stdout.decode('utf-8')}\")\n",
    "    if stderr:\n",
    "        print(f\"Error:\\n{stderr.decode('utf-8')}\")\n"
   ]
  },
  {
   "cell_type": "code",
   "execution_count": null,
   "metadata": {},
   "outputs": [],
   "source": [
    "\n",
    "# Step 1: Clone the repository\n",
    "# replace ~/Desktop by the path where you want to run this tutorial\n",
    "run_command(\"cd ~/Desktop && git clone https://github.com/echarvel3/skimming_scripts-echarvel.git\")\n"
   ]
  },
  {
   "cell_type": "code",
   "execution_count": null,
   "metadata": {},
   "outputs": [],
   "source": [
    "\n",
    "# Step 2: Run the installation script\n",
    "install_command = \"\"\"\n",
    "cd ~/Desktop/skimming_scripts-echarvel\n",
    "bash ./install.sh << EOF\n",
    "workshop_test\n",
    "EOF\n",
    "\"\"\"\n",
    "run_command(install_command)"
   ]
  },
  {
   "cell_type": "code",
   "execution_count": null,
   "metadata": {},
   "outputs": [],
   "source": [
    "# Step 3: Run the BBMAP commands\n",
    "bbmap_commands = [\n",
    "    \"cd ~/Desktop/skimming_scripts-echarvel\",\n",
    "    \"source activate workshop_test\",  # Using the created conda environment\n",
    "    \"cd ./test/\",\n",
    "    \"gunzip ./skims/*gz\",\n",
    "    \"mkdir -p bbmap_reads\",\n",
    "    \"bash ../bbmap_pipeline.sh ./skims/read1.fq ./skims/read2.fq ./bbmap_reads/read_out.fq\"\n",
    "]\n",
    "\n",
    "# Run the BBMAP commands\n",
    "for command in bbmap_commands:\n",
    "    run_command(command)"
   ]
  },
  {
   "cell_type": "code",
   "execution_count": null,
   "metadata": {},
   "outputs": [],
   "source": [
    "# Step 4: Run the Skmer Reference\n",
    "skmer_commands = [\n",
    "    \"cd ~/Desktop/skimming_scripts-echarvel\",\n",
    "    \"source activate workshop_test\",  # Using the created conda environment\n",
    "    \"gunzip ./test/skims/*gz\",\n",
    "    \"skmer reference ./skims/bbmap_reads -p1\"\n",
    "]\n",
    "\n",
    "# Run the Skmer Reference commands\n",
    "for command in skmer_commands:\n",
    "    run_command(command)"
   ]
  },
  {
   "cell_type": "code",
   "execution_count": null,
   "metadata": {},
   "outputs": [],
   "source": [
    "# Step 5: Run the KRANK build\n",
    "krank_commands = [\n",
    "    \"cd ~/Desktop/skimming_scripts-echarvel/test/KRANK_test\",\n",
    "    \"source activate workshop_test\",  # Using the created conda environment\n",
    "    \"\"\"krank build -l ${LIBDIR} -t ./taxonomy/ -i ./input_map.tsv -k 27 -w 35 -h 12 -b 8 -s 2 --from-scratch --input-sequences --kmer-ranking representative --adaptive-size --lca soft --num-threads ${NTHREADS}\"\"\",\n",
    "    \"\"\"krank build -l ${LIBDIR} -t ./taxonomy/ -i ./input_map.tsv -k 27 -w 35 -h 12 -b 8 -s 2 --target-batch 0 --fast-mode --from-library --input-sequences --keep-intermediate --kmer-ranking representative --adaptive-size --lca soft --num-threads ${NTHREADS}\"\"\"\n",
    "]\n",
    "\n",
    "# Set environment variables for LIBDIR and NTHREADS\n",
    "os.environ['LIBDIR'] = '/path/to/libdir'  # Replace with actual LIBDIR path\n",
    "os.environ['NTHREADS'] = '4'  # Replace with the number of threads you want to use\n",
    "\n",
    "# Run the KRANK build commands\n",
    "for command in krank_commands:\n",
    "    run_command(command)"
   ]
  },
  {
   "cell_type": "code",
   "execution_count": null,
   "metadata": {},
   "outputs": [],
   "source": [
    "# Step 6: Run the KRANK query\n",
    "krank_query_commands = [\n",
    "    \"cd ~/Desktop/skimming_scripts-echarvel/test\",\n",
    "    \"source activate workshop_test\",  # Using the created conda environment\n",
    "    \"\"\"${SCRIPT_DIR}/KRANK/krank query --library-dir ${LIBRARIES} --query-file ./bbmap_reads/read_out.fq --max-match-distance 5 --total-vote-threshold 0.03 --num-threads ${NUM_THREADS} --output-dir \"${OUTPUT_DIRECTORY}/krank_output/krank_reports/\\\"\"\"\"\n",
    "]\n",
    "\n",
    "# Set environment variables for SCRIPT_DIR, LIBRARIES, NUM_THREADS, and OUTPUT_DIRECTORY\n",
    "os.environ['SCRIPT_DIR'] = '/path/to/scripts'  # Replace with actual SCRIPT_DIR path\n",
    "os.environ['LIBRARIES'] = '/path/to/libraries'  # Replace with actual LIBRARIES path\n",
    "os.environ['NUM_THREADS'] = '4'  # Replace with the number of threads you want to use\n",
    "os.environ['OUTPUT_DIRECTORY'] = '/path/to/output'  # Replace with actual OUTPUT_DIRECTORY path\n",
    "\n",
    "# Run the KRANK query commands\n",
    "for command in krank_query_commands:\n",
    "    run_command(command)"
   ]
  },
  {
   "cell_type": "code",
   "execution_count": null,
   "metadata": {},
   "outputs": [],
   "source": [
    "# Step 7: Run RESPECT\n",
    "respect_commands = [\n",
    "    \"cd ~/Desktop/skimming_scripts-echarvel/test\",\n",
    "    \"source activate workshop_test\",  # Using the created conda environment\n",
    "    \"respect -d ./bbmap_reads/ -N 2 --threads 1\"\n",
    "]\n",
    "\n",
    "# Run the RESPECT commands\n",
    "for command in respect_commands:\n",
    "    run_command(command)"
   ]
  }
 ],
 "metadata": {
  "kernelspec": {
   "display_name": "Python 3",
   "language": "python",
   "name": "python3"
  },
  "language_info": {
   "codemirror_mode": {
    "name": "ipython",
    "version": 3
   },
   "file_extension": ".py",
   "mimetype": "text/x-python",
   "name": "python",
   "nbconvert_exporter": "python",
   "pygments_lexer": "ipython3",
   "version": "3.9.6"
  }
 },
 "nbformat": 4,
 "nbformat_minor": 2
}
