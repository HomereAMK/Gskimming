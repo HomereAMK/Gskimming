{
 "cells": [
  {
   "cell_type": "code",
   "execution_count": 11,
   "metadata": {},
   "outputs": [],
   "source": [
    "# 1. Read the ref-dist-mat into numpy for array\n",
    "# 2. Replace array names with annotations\n",
    "# 3. Double for loop to calculate F1 and F2\n",
    "# 4. Use F measuremnts to calculated M and FST measures"
   ]
  },
  {
   "cell_type": "markdown",
   "metadata": {},
   "source": []
  },
  {
   "cell_type": "code",
   "execution_count": 12,
   "metadata": {},
   "outputs": [],
   "source": [
    "import numpy as np"
   ]
  },
  {
   "cell_type": "code",
   "execution_count": 13,
   "metadata": {},
   "outputs": [],
   "source": [
    "#dist_mat = np.genfromtxt(\"/home/echarvel/Desktop/calab_data/code_bases/Skmer-2/data/Clupea_11jan24/11jan_jc_ref-dist-mat.txt.txt\", dtype=\"str\")\n",
    "dist_mat = np.genfromtxt(\"/Users/sjr729/Desktop/GitHub/Gskimming/00_data/Skmer/Oedulis/RawCov/MDS/distance_matrix.txt\", dtype=\"str\")\n",
    "\n",
    "#annots = np.genfromtxt(\"/home/echarvel/Desktop/calab_data/code_bases/Skmer-2/data/Clupea_11jan24/11jan_ClupeaAtmore_Fstannot.tsv\", dtype=\"str\")\n",
    "annots = np.genfromtxt(\"/Users/sjr729/Desktop/GitHub/Gskimming/01_infofiles/oedulis/oedulis_skmer1_Fstannot.tsv\", dtype=\"str\")\n",
    "\n",
    "# dist_mat = numpy.genfromtxt(\"/home/echarvel/Desktop/calab_data/code_bases/Skmer-2/fst_test_data/test_matrix.txt\", dtype=\"str\")\n",
    "# annots = numpy.genfromtxt(\"/home/echarvel/Desktop/calab_data/code_bases/Skmer-2/fst_test_data/test_annots.txt\", dtype=\"str\")"
   ]
  },
  {
   "cell_type": "code",
   "execution_count": 14,
   "metadata": {},
   "outputs": [],
   "source": [
    "for line in annots:\n",
    "    x = np.where(dist_mat == line[0])\n",
    "    for index in x: \n",
    "        try:\n",
    "            dist_mat[index[0]][index[1]] = line[1]\n",
    "        except: pass"
   ]
  },
  {
   "cell_type": "code",
   "execution_count": 15,
   "metadata": {},
   "outputs": [
    {
     "name": "stdout",
     "output_type": "stream",
     "text": [
      "['HALS', 'HAFR', 'AGAB', 'DOLV', 'CRES', 'WADD', 'VENO', 'BUNN', 'TOLL', 'THIS', 'RYAN', 'OSTR', 'BOVA', 'ORNE', 'NELL', 'MOLU', 'LANG', 'KLEV', 'HFJO', 'BARR', 'GREV', 'CORS', 'PONT', 'NISS', 'LOGS', 'LILL', 'INNE', 'HAUG', 'GASO', 'FURI', 'ZECE', 'CLEW', 'TRAL']\n"
     ]
    }
   ],
   "source": [
    "dist_dict = dict()\n",
    "\n",
    "for num1 in range(1, len(dist_mat[0])):\n",
    "    for num2 in range(1, len(dist_mat[0])):\n",
    "        if num1 != num2: \n",
    "            name1=dist_mat[0][num1]\n",
    "            name2=dist_mat[0][num2]\n",
    "            if name1 not in dist_dict:\n",
    "                dist_dict[name1] = dict()\n",
    "\n",
    "            if name2 not in dist_dict[name1]:\n",
    "                dist_dict[name1][name2] = [float(dist_mat[num1, num2])]\n",
    "            else: \n",
    "                dist_dict[name1][name2].append(float(dist_mat[num1, num2]))\n",
    "        if num1 == num2:\n",
    "            name1=name2=dist_mat[0][num1]\n",
    "            \n",
    "            if name1 not in dist_dict:\n",
    "                dist_dict[name1] = dict()\n",
    "\n",
    "            if name2 not in dist_dict[name1]:\n",
    "                dist_dict[name1][name2] = []\n",
    "\n",
    "key_list = list(dist_dict.keys())\n",
    "print(key_list)"
   ]
  },
  {
   "cell_type": "code",
   "execution_count": 16,
   "metadata": {},
   "outputs": [],
   "source": [
    "def make_empty_matrix(dist_dict, key_list):\n",
    "    matrix = [[0 for x in range(0, len(dist_dict)+1)] for x in range(0, len(dist_dict)+1)]\n",
    "    matrix[0][0]=\"sample\"\n",
    "    for x in range(0, len(dist_dict)):\n",
    "        matrix[0][x+1] = matrix[x+1][0] = (key_list[x])\n",
    "    return matrix\n",
    "\n",
    "def calculate_WC_FST(F1, F2, M):\n",
    "    numerator_wc_fst = F1 + F2\n",
    "    denominator_wc_fst = F1 + F2 + 2 * (1 / (M + 1)) * (M * (1 - F1) + (1 - F2))\n",
    "    WC_FST = numerator_wc_fst / denominator_wc_fst\n",
    "    return WC_FST\n",
    "\n",
    "def calculate_Nei_FST(F1, F2):\n",
    "    numerator_nei_fst = F1 + F2\n",
    "    denominator_nei_fst = 2 - ((F1 + F2) / 2)\n",
    "    Nei_FST = numerator_nei_fst / denominator_nei_fst\n",
    "    return Nei_FST\n",
    "\n",
    "def calculate_Hudson_FST(F1, F2):\n",
    "    Hudson_FST = (F1 + F2) / 2\n",
    "    return Hudson_FST"
   ]
  },
  {
   "cell_type": "code",
   "execution_count": 17,
   "metadata": {},
   "outputs": [
    {
     "name": "stdout",
     "output_type": "stream",
     "text": [
      "0.0\n"
     ]
    }
   ],
   "source": [
    "F_mtrx = make_empty_matrix(dist_dict, key_list)\n",
    "wh_fst_mtrx = make_empty_matrix(dist_dict, key_list)\n",
    "wc_fst_mtrx = make_empty_matrix(dist_dict, key_list)\n",
    "nei_fst_mtrx = make_empty_matrix(dist_dict, key_list)\n",
    "hud_fst_mtrx = make_empty_matrix(dist_dict, key_list)\n",
    "clade_dist_mtrx = make_empty_matrix(dist_dict, key_list)\n",
    "thetas_list = [[key,0.0] for key in key_list]\n",
    "print(thetas_list[1][1])"
   ]
  },
  {
   "cell_type": "code",
   "execution_count": 18,
   "metadata": {},
   "outputs": [
    {
     "name": "stdout",
     "output_type": "stream",
     "text": [
      "['sample', 'HALS', 'HAFR', 'AGAB', 'DOLV', 'CRES', 'WADD', 'VENO', 'BUNN', 'TOLL', 'THIS', 'RYAN', 'OSTR', 'BOVA', 'ORNE', 'NELL', 'MOLU', 'LANG', 'KLEV', 'HFJO', 'BARR', 'GREV', 'CORS', 'PONT', 'NISS', 'LOGS', 'LILL', 'INNE', 'HAUG', 'GASO', 'FURI', 'ZECE', 'CLEW', 'TRAL']\n",
      "['HALS', 0, 0.06619, 0.1281, 0.11012, 0.20762, 0.19024, 0.00191, 0.02551, 0.07008, 0.01298, 0.11084, 0.27201, 0.02427, 0.01949, 0.35374, 0.25774, 0.0324, 0.014, 0.02978, 0.07274, 0.08998, 0.24131, 0.13603, 0.03922, -0.00369, 0.03183, 0.1076, 0.00718, 0.06609, 0.0062, 0.19555, 'NA', 0.14177]\n",
      "['HAFR', 0.06619, 0, 0.11261, 0.0163, 0.16868, 0.19373, 0.04519, 0.02764, 0.07529, 0.0701, 0.04049, 0.25669, 0.02596, 0.02179, 0.34336, 0.22528, 0.02649, 0.05608, 0.06988, 0.1078, 0.02875, 0.12319, 0.15639, 0.00673, 0.03375, 0.08907, 0.07551, 0.02205, 0.11055, 0.07282, 0.1832, 'NA', 0.06116]\n",
      "['AGAB', 0.1281, 0.11261, 0, 0.11497, 0.20783, 0.257, 0.10487, 0.10631, 0.14871, 0.11153, 0.15807, 0.12872, 0.09169, 0.09609, 0.38217, 0.26028, 0.10122, 0.10971, 0.12602, 0.16254, 0.15811, 0.232, 0.19811, 0.12145, 0.09069, 0.13286, 0.04266, 0.09117, 0.15564, 0.11786, 0.21056, 'NA', 0.16131]\n",
      "['DOLV', 0.11012, 0.0163, 0.11497, 0, 0.1481, 0.20495, 0.08527, 0.03852, 0.10123, 0.08282, 0.05319, 0.26025, 0.03485, 0.03509, 0.34214, 0.21529, 0.04303, 0.08296, 0.08731, 0.15493, 0.05736, 0.09682, 0.17206, 0.02961, 0.06162, 0.11648, 0.10008, 0.04551, 0.13396, 0.10037, 0.17602, 'NA', 0.04381]\n",
      "['CRES', 0.20762, 0.16868, 0.20783, 0.1481, 0, 0.25904, 0.18878, 0.19337, 0.12057, 0.18394, 0.13167, 0.2895, 0.16893, 0.17043, 0.31668, 0.05368, 0.15688, 0.20095, 0.21403, 0.14172, 0.15668, 0.08042, 0.10118, 0.14631, 0.17345, 0.23752, 0.19726, 0.16889, 0.24974, 0.20321, 0.00348, 'NA', 0.10765]\n",
      "['WADD', 0.19024, 0.19373, 0.257, 0.20495, 0.25904, 0, 0.17769, 0.1985, 0.19305, 0.18959, 0.19755, 0.39498, 0.17736, 0.18044, 0.46227, 0.33049, 0.17542, 0.20661, 0.21679, 0.20798, 0.18421, 0.26879, 0.25232, 0.1694, 0.16728, 0.22501, 0.24308, 0.17779, 0.258, 0.20308, 0.27179, 'NA', 0.18592]\n",
      "['VENO', 0.00191, 0.04519, 0.10487, 0.08527, 0.18878, 0.17769, 0, 0.01383, 0.06937, 0.00482, 0.09647, 0.24804, 0.01062, 0.00857, 0.3219, 0.23623, 0.03007, 0.01069, 0.02725, 0.08303, 0.07715, 0.21845, 0.12644, 0.03923, -0.01946, 0.01755, 0.10326, 0.00919, 0.04178, -0.00711, 0.18346, 'NA', 0.13056]\n",
      "['BUNN', 0.02551, 0.02764, 0.10631, 0.03852, 0.19337, 0.1985, 0.01383, 0, 0.0851, 0.03198, 0.09557, 0.27104, -0.00785, 0.00565, 0.35224, 0.24978, 0.00304, 0.01085, 0.02301, 0.11139, 0.08212, 0.19516, 0.15706, 0.03821, 0.00518, 0.02094, 0.10361, -0.00467, 0.0504, 0.02336, 0.2012, 'NA', 0.11077]\n",
      "['TOLL', 0.07008, 0.07529, 0.14871, 0.10123, 0.12057, 0.19305, 0.06937, 0.0851, 0, 0.07512, 0.04212, 0.26291, 0.07462, 0.06676, 0.30298, 0.1771, 0.06943, 0.08312, 0.09958, 0.00754, 0.07035, 0.14423, 0.03315, 0.04822, 0.05406, 0.10894, 0.12489, 0.06405, 0.12601, 0.07018, 0.11911, 'NA', 0.05002]\n",
      "['THIS', 0.01298, 0.0701, 0.11153, 0.08282, 0.18394, 0.18959, 0.00482, 0.03198, 0.07512, 0, 0.10799, 0.25131, 0.02527, 0.02068, 0.33341, 0.23529, 0.03917, 0.03066, 0.03802, 0.09723, 0.10003, 0.22494, 0.12843, 0.05802, 0.00103, 0.03772, 0.12044, 0.02345, 0.06123, 0.00269, 0.17392, 'NA', 0.12607]\n",
      "['RYAN', 0.11084, 0.04049, 0.15807, 0.05319, 0.13167, 0.19755, 0.09647, 0.09557, 0.04212, 0.10799, 0, 0.27068, 0.08629, 0.07955, 0.31704, 0.18812, 0.08121, 0.12101, 0.1323, 0.07058, 0.01786, 0.06049, 0.10577, 0.0105, 0.08555, 0.15201, 0.10611, 0.07727, 0.17604, 0.12496, 0.14768, 'NA', -0.00295]\n",
      "['OSTR', 0.27201, 0.25669, 0.12872, 0.26025, 0.2895, 0.39498, 0.24804, 0.27104, 0.26291, 0.25131, 0.27068, 0, 0.24742, 0.23708, 0.49925, 0.3595, 0.23781, 0.26543, 0.26852, 0.26613, 0.27961, 0.31766, 0.30459, 0.25646, 0.24571, 0.29429, 0.16569, 0.23798, 0.30924, 0.27268, 0.28945, 'NA', 0.26583]\n",
      "['BOVA', 0.02427, 0.02596, 0.09169, 0.03485, 0.16893, 0.17736, 0.01062, -0.00785, 0.07462, 0.02527, 0.08629, 0.24742, 0, -0.00392, 0.33054, 0.22621, 0.01106, 0.0047, 0.02015, 0.11014, 0.07656, 0.18514, 0.14019, 0.03309, 0.00243, 0.02495, 0.0925, 0.01069, 0.04255, 0.01461, 0.17502, 'NA', 0.09407]\n",
      "['ORNE', 0.01949, 0.02179, 0.09609, 0.03509, 0.17043, 0.18044, 0.00857, 0.00565, 0.06676, 0.02068, 0.07955, 0.23708, -0.00392, 0, 0.31796, 0.22192, -0.00557, 0.00113, 0.00602, 0.08848, 0.0724, 0.18338, 0.12923, 0.03422, 0.00612, 0.01164, 0.09032, -0.00787, 0.03535, 0.02144, 0.17224, 'NA', 0.10234]\n",
      "['NELL', 0.35374, 0.34336, 0.38217, 0.34214, 0.31668, 0.46227, 0.3219, 0.35224, 0.30298, 0.33341, 0.31704, 0.49925, 0.33054, 0.31796, 0, 0.4016, 0.31766, 0.3461, 0.35826, 0.31464, 0.34914, 0.35794, 0.33087, 0.31882, 0.32219, 0.37608, 0.3762, 0.31706, 0.40037, 0.357, 0.31985, 'NA', 0.2997]\n",
      "['MOLU', 0.25774, 0.22528, 0.26028, 0.21529, 0.05368, 0.33049, 0.23623, 0.24978, 0.1771, 0.23529, 0.18812, 0.3595, 0.22621, 0.22192, 0.4016, 0, 0.21879, 0.25014, 0.27209, 0.2034, 0.21387, 0.15564, 0.15957, 0.20103, 0.22726, 0.29436, 0.25617, 0.22663, 0.3062, 0.25662, 0.06471, 'NA', 0.16285]\n",
      "['LANG', 0.0324, 0.02649, 0.10122, 0.04303, 0.15688, 0.17542, 0.03007, 0.00304, 0.06943, 0.03917, 0.08121, 0.23781, 0.01106, -0.00557, 0.31766, 0.21879, 0, 0.02148, 0.02442, 0.09773, 0.07628, 0.17722, 0.11643, 0.0379, 0.01371, 0.0262, 0.10161, 0.01216, 0.04822, 0.0317, 0.16262, 'NA', 0.08171]\n",
      "['KLEV', 0.014, 0.05608, 0.10971, 0.08296, 0.20095, 0.20661, 0.01069, 0.01085, 0.08312, 0.03066, 0.12101, 0.26543, 0.0047, 0.00113, 0.3461, 0.25014, 0.02148, 0, 0.00707, 0.09556, 0.11301, 0.23571, 0.13948, 0.05985, 0.00383, 0.0067, 0.1125, 0.00396, 0.02743, 0.01827, 0.19402, 'NA', 0.14415]\n",
      "['HFJO', 0.02978, 0.06988, 0.12602, 0.08731, 0.21403, 0.21679, 0.02725, 0.02301, 0.09958, 0.03802, 0.1323, 0.26852, 0.02015, 0.00602, 0.35826, 0.27209, 0.02442, 0.00707, 0, 0.11636, 0.11676, 0.24671, 0.16162, 0.07605, 0.02494, 0.01029, 0.12736, 0.00914, 0.01614, 0.02858, 0.20738, 'NA', 0.15569]\n",
      "['BARR', 0.07274, 0.1078, 0.16254, 0.15493, 0.14172, 0.20798, 0.08303, 0.11139, 0.00754, 0.09723, 0.07058, 0.26613, 0.11014, 0.08848, 0.31464, 0.2034, 0.09773, 0.09556, 0.11636, 0, 0.08851, 0.1761, 0.04212, 0.08095, 0.06634, 0.12858, 0.13967, 0.09281, 0.13279, 0.08672, 0.12652, 'NA', 0.09804]\n",
      "['GREV', 0.08998, 0.02875, 0.15811, 0.05736, 0.15668, 0.18421, 0.07715, 0.08212, 0.07035, 0.10003, 0.01786, 0.27961, 0.07656, 0.0724, 0.34914, 0.21387, 0.07628, 0.11301, 0.11676, 0.08851, 0, 0.10794, 0.13938, 0.00708, 0.06565, 0.13431, 0.10646, 0.06035, 0.15538, 0.10663, 0.17792, 'NA', 0.03675]\n",
      "['CORS', 0.24131, 0.12319, 0.232, 0.09682, 0.08042, 0.26879, 0.21845, 0.19516, 0.14423, 0.22494, 0.06049, 0.31766, 0.18514, 0.18338, 0.35794, 0.15564, 0.17722, 0.23571, 0.24671, 0.1761, 0.10794, 0, 0.17396, 0.10395, 0.19404, 0.27647, 0.18197, 0.1877, 0.29585, 0.24676, 0.13102, 'NA', 0.0236]\n",
      "['PONT', 0.13603, 0.15639, 0.19811, 0.17206, 0.10118, 0.25232, 0.12644, 0.15706, 0.03315, 0.12843, 0.10577, 0.30459, 0.14019, 0.12923, 0.33087, 0.15957, 0.11643, 0.13948, 0.16162, 0.04212, 0.13938, 0.17396, 0, 0.12033, 0.11617, 0.16847, 0.1832, 0.12379, 0.19724, 0.14096, 0.08136, 'NA', 0.10626]\n",
      "['NISS', 0.03922, 0.00673, 0.12145, 0.02961, 0.14631, 0.1694, 0.03923, 0.03821, 0.04822, 0.05802, 0.0105, 0.25646, 0.03309, 0.03422, 0.31882, 0.20103, 0.0379, 0.05985, 0.07605, 0.08095, 0.00708, 0.10395, 0.12033, 0, 0.01945, 0.09473, 0.08042, 0.03171, 0.11113, 0.05998, 0.1605, 'NA', 0.04322]\n",
      "['LOGS', -0.00369, 0.03375, 0.09069, 0.06162, 0.17345, 0.16728, -0.01946, 0.00518, 0.05406, 0.00103, 0.08555, 0.24571, 0.00243, 0.00612, 0.32219, 0.22726, 0.01371, 0.00383, 0.02494, 0.06634, 0.06565, 0.19404, 0.11617, 0.01945, 0, 0.02587, 0.0927, 0.00267, 0.05974, -0.0141, 0.16869, 'NA', 0.10769]\n",
      "['LILL', 0.03183, 0.08907, 0.13286, 0.11648, 0.23752, 0.22501, 0.01755, 0.02094, 0.10894, 0.03772, 0.15201, 0.29429, 0.02495, 0.01164, 0.37608, 0.29436, 0.0262, 0.0067, 0.01029, 0.12858, 0.13431, 0.27647, 0.16847, 0.09473, 0.02587, 0, 0.14608, 0.02033, 0.02971, 0.02672, 0.22698, 'NA', 0.17163]\n",
      "['INNE', 0.1076, 0.07551, 0.04266, 0.10008, 0.19726, 0.24308, 0.10326, 0.10361, 0.12489, 0.12044, 0.10611, 0.16569, 0.0925, 0.09032, 0.3762, 0.25617, 0.10161, 0.1125, 0.12736, 0.13967, 0.10646, 0.18197, 0.1832, 0.08042, 0.0927, 0.14608, 0, 0.08619, 0.15872, 0.12207, 0.20624, 'NA', 0.12346]\n",
      "['HAUG', 0.00718, 0.02205, 0.09117, 0.04551, 0.16889, 0.17779, 0.00919, -0.00467, 0.06405, 0.02345, 0.07727, 0.23798, 0.01069, -0.00787, 0.31706, 0.22663, 0.01216, 0.00396, 0.00914, 0.09281, 0.06035, 0.1877, 0.12379, 0.03171, 0.00267, 0.02033, 0.08619, 0, 0.03134, 0.01423, 0.17183, 'NA', 0.09883]\n",
      "['GASO', 0.06609, 0.11055, 0.15564, 0.13396, 0.24974, 0.258, 0.04178, 0.0504, 0.12601, 0.06123, 0.17604, 0.30924, 0.04255, 0.03535, 0.40037, 0.3062, 0.04822, 0.02743, 0.01614, 0.13279, 0.15538, 0.29585, 0.19724, 0.11113, 0.05974, 0.02971, 0.15872, 0.03134, 0, 0.05958, 0.23686, 'NA', 0.20587]\n",
      "['FURI', 0.0062, 0.07282, 0.11786, 0.10037, 0.20321, 0.20308, -0.00711, 0.02336, 0.07018, 0.00269, 0.12496, 0.27268, 0.01461, 0.02144, 0.357, 0.25662, 0.0317, 0.01827, 0.02858, 0.08672, 0.10663, 0.24676, 0.14096, 0.05998, -0.0141, 0.02672, 0.12207, 0.01423, 0.05958, 0, 0.19201, 'NA', 0.14354]\n",
      "['ZECE', 0.19555, 0.1832, 0.21056, 0.17602, 0.00348, 0.27179, 0.18346, 0.2012, 0.11911, 0.17392, 0.14768, 0.28945, 0.17502, 0.17224, 0.31985, 0.06471, 0.16262, 0.19402, 0.20738, 0.12652, 0.17792, 0.13102, 0.08136, 0.1605, 0.16869, 0.22698, 0.20624, 0.17183, 0.23686, 0.19201, 0, 'NA', 0.1398]\n",
      "['CLEW', 'NA', 'NA', 'NA', 'NA', 'NA', 'NA', 'NA', 'NA', 'NA', 'NA', 'NA', 'NA', 'NA', 'NA', 'NA', 'NA', 'NA', 'NA', 'NA', 'NA', 'NA', 'NA', 'NA', 'NA', 'NA', 'NA', 'NA', 'NA', 'NA', 'NA', 'NA', 0, 'NA']\n",
      "['TRAL', 0.14177, 0.06116, 0.16131, 0.04381, 0.10765, 0.18592, 0.13056, 0.11077, 0.05002, 0.12607, -0.00295, 0.26583, 0.09407, 0.10234, 0.2997, 0.16285, 0.08171, 0.14415, 0.15569, 0.09804, 0.03675, 0.0236, 0.10626, 0.04322, 0.10769, 0.17163, 0.12346, 0.09883, 0.20587, 0.14354, 0.1398, 'NA', 0]\n"
     ]
    }
   ],
   "source": [
    "for key1, index1 in zip(key_list, range(len(key_list))):\n",
    "     for key2, index2 in zip(key_list, range(len(key_list))):\n",
    "        if key1 == key2:\n",
    "            break\n",
    "        else:\n",
    "            dist_array_k1_k1 = dist_dict[key1][key1]\n",
    "            dist_array_k2_k2 = dist_dict[key2][key2]\n",
    "            dist_array_k1_k2 = dist_dict[key1][key2]\n",
    "\n",
    "            across_k1_k2 = sum(dist_array_k1_k2)/len(dist_array_k1_k2)\n",
    "\n",
    "            max_k1_k1 = max(dist_array_k1_k1) if (len(dist_array_k1_k1) != 0) else 0\n",
    "            max_k2_k2 = max(dist_array_k1_k1) if (len(dist_array_k1_k1) != 0) else 0\n",
    "            max_k1_k2 = max(dist_array_k1_k2) \n",
    "\n",
    "            clade_dist_mtrx[index1+1][index2+1] = clade_dist_mtrx[index2+1][index1+1] = max_k1_k2 - (max_k1_k1 + max_k2_k2)/2\n",
    " \n",
    "            if ((len(dist_array_k1_k1) == 0) or len(dist_array_k2_k2) == 0):\n",
    "                # Checks if any of the populations only have one members.\n",
    "                # Calculates F1 or F2 if possible. If not, assigns \"NA\". \n",
    "                # Assigns \"NA\" to all other Fst calculations.\n",
    "                if (len(dist_array_k1_k1) != 0):\n",
    "                    within_k1 = sum(dist_array_k1_k1)/len(dist_array_k1_k1)\n",
    "                    F1 = 1 - within_k1/across_k1_k2\n",
    "                    thetas_list[index1][1] = round(within_k1, 5)\n",
    "                    F_mtrx[index1+1][index2+1] = round(F1, 5)\n",
    "                    F_mtrx[index2+1][index1+1] = \"NA\"\n",
    "                elif (len(dist_array_k2_k2) != 0):\n",
    "                    within_k2 = sum(dist_array_k2_k2)/len(dist_array_k2_k2)\n",
    "                    F2 = 1- within_k2/across_k1_k2\n",
    "                    thetas_list[index1][1] = \"NA\"\n",
    "                    F_mtrx[index1+1][index2+1] = \"NA\"\n",
    "                    F_mtrx[index2+1][index1+1] = round(F2, 5)\n",
    "                    \n",
    "                else:\n",
    "                    F_mtrx[index1+1][index2+1] = F_mtrx[index2+1][index1+1] =\"NA\"\n",
    "\n",
    "                wh_fst_mtrx[index1+1][index2+1] = wh_fst_mtrx[index2+1][index1+1] = \"NA\"\n",
    "                wc_fst_mtrx[index1+1][index2+1] = wc_fst_mtrx[index2+1][index1+1] = \"NA\"\n",
    "                nei_fst_mtrx[index1+1][index2+1] = nei_fst_mtrx[index2+1][index1+1] = \"NA\"\n",
    "                hud_fst_mtrx[index1+1][index2+1] = hud_fst_mtrx[index2+1][index1+1] = \"NA\"\n",
    "            else:\n",
    "                within_k1 = sum(dist_array_k1_k1)/len(dist_array_k1_k1)\n",
    "                within_k2 = sum(dist_array_k2_k2)/len(dist_array_k2_k2)\n",
    "\n",
    "                F1 = 1 - within_k1/across_k1_k2\n",
    "                F2 = 1 - within_k2/across_k1_k2\n",
    "\n",
    "                if len(dist_array_k1_k1) <= len(dist_array_k2_k2):\n",
    "                    M=len(dist_array_k1_k1)/len(dist_array_k2_k2)\n",
    "                else:\n",
    "                    M=len(dist_array_k2_k2)/len(dist_array_k1_k1)\n",
    "                \n",
    "                thetas_list[index1][1] = round(within_k1, 5)\n",
    "                # NOTE: F_matrix contains F1 in the lower half and F2 in the upper half. \n",
    "                F_mtrx[index1+1][index2+1] =  round(F1, 5)\n",
    "                F_mtrx[index2+1][index1+1] =  round(F2, 5)\n",
    "                wh_fst_mtrx[index1+1][index2+1] = wh_fst_mtrx[index2+1][index1+1] = round((F1 + F2)/2, 5)\n",
    "                wc_fst_mtrx[index1+1][index2+1] = wc_fst_mtrx[index2+1][index1+1] = round(calculate_WC_FST(F1, F2, M), 5)\n",
    "                nei_fst_mtrx[index1+1][index2+1] = nei_fst_mtrx[index2+1][index1+1] = round(calculate_Nei_FST(F1, F2), 5)\n",
    "                hud_fst_mtrx[index1+1][index2+1] = hud_fst_mtrx[index2+1][index1+1] =  round(calculate_Hudson_FST(F1, F2), 5)\n",
    "for x in wh_fst_mtrx:\n",
    "    print(x)"
   ]
  },
  {
   "cell_type": "code",
   "execution_count": 19,
   "metadata": {},
   "outputs": [],
   "source": [
    "np.savetxt(\"/Users/sjr729/Desktop/GitHub/Gskimming/00_data/Skmer/Oedulis/RawCov/Theta/oedulis_skmer1_n214_thetas.txt\", np.matrix(thetas_list), fmt=\"%s\", delimiter=\"\\t\")\n",
    "#np.savetxt(\"./ed_test_Fmat.txt\", np.matrix(F_mtrx), fmt=\"%s\", delimiter=\"\\t\")\n",
    "#np.savetxt(\"./ed_test_whfst.txt\", np.matrix(wh_fst_mtrx), fmt=\"%s\", delimiter=\"\\t\")\n",
    "np.savetxt(\"/Users/sjr729/Desktop/GitHub/Gskimming/00_data/Skmer/Oedulis/RawCov/Fst/oedulis_skmer1_n214_wcfst.txt\", np.matrix(wc_fst_mtrx), fmt=\"%s\", delimiter=\"\\t\")\n",
    "np.savetxt(\"/Users/sjr729/Desktop/GitHub/Gskimming/00_data/Skmer/Oedulis/RawCov/Fst/oedulis_skmer1_n214_neifst.txt\", np.matrix(nei_fst_mtrx), fmt=\"%s\", delimiter=\"\\t\")\n",
    "np.savetxt(\"/Users/sjr729/Desktop/GitHub/Gskimming/00_data/Skmer/Oedulis/RawCov/Fst/oedulis_skmer1_n214_hudfst.txt\", np.matrix(hud_fst_mtrx), fmt=\"%s\", delimiter=\"\\t\")\n",
    "#np.savetxt(\"./ed_test_cladedist.txt\", np.matrix(clade_dist_mtrx), fmt=\"%s\", delimiter=\"\\t\")"
   ]
  },
  {
   "cell_type": "code",
   "execution_count": null,
   "metadata": {},
   "outputs": [],
   "source": []
  }
 ],
 "metadata": {
  "kernelspec": {
   "display_name": "data_science",
   "language": "python",
   "name": "python3"
  },
  "language_info": {
   "codemirror_mode": {
    "name": "ipython",
    "version": 3
   },
   "file_extension": ".py",
   "mimetype": "text/x-python",
   "name": "python",
   "nbconvert_exporter": "python",
   "pygments_lexer": "ipython3",
   "version": "3.9.6"
  },
  "orig_nbformat": 4
 },
 "nbformat": 4,
 "nbformat_minor": 2
}
